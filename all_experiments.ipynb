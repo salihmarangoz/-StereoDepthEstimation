{
 "cells": [
  {
   "cell_type": "markdown",
   "id": "c51b9009",
   "metadata": {},
   "source": [
    "# Results of All Models\n",
    "\n",
    "Elif Cansu YILDIZ  \n",
    "Salih Marangoz"
   ]
  },
  {
   "cell_type": "code",
   "execution_count": null,
   "id": "f981c8ca",
   "metadata": {},
   "outputs": [],
   "source": [
    "# For non-deterministic inference\n",
    "%env CUBLAS_WORKSPACE_CONFIG=4096:8"
   ]
  },
  {
   "cell_type": "code",
   "execution_count": 1,
   "id": "c61666b7",
   "metadata": {
    "ExecuteTime": {
     "end_time": "2021-09-30T08:09:58.847442Z",
     "start_time": "2021-09-30T08:09:56.795484Z"
    }
   },
   "outputs": [],
   "source": [
    "%load_ext autoreload\n",
    "%autoreload 2\n",
    "\n",
    "# Download IO Routines\n",
    "#!wget \"https://lmb.informatik.uni-freiburg.de/resources/datasets/IO.py\" -nv -O io_routines.py\n",
    "\n",
    "import os\n",
    "import sys\n",
    "from PIL import Image\n",
    "import numpy as np\n",
    "from torchvision import transforms\n",
    "import torch\n",
    "import torch.nn as nn\n",
    "import torch.nn.functional as F\n",
    "import torchvision\n",
    "import matplotlib.pyplot as plt\n",
    "import numpy as np\n",
    "from torch.utils.tensorboard import SummaryWriter\n",
    "\n",
    "from models.psmnet import PSMNet, FeatureExtractionPlusResNet50\n",
    "from models.gcnet import GCnet\n",
    "from models.psmnet_basic import PSMNet as PSMNet_basic\n",
    "\n",
    "import dataset_utilities as d_utils\n",
    "import training_utilities as t_utils"
   ]
  },
  {
   "cell_type": "code",
   "execution_count": 2,
   "id": "820f0a5c",
   "metadata": {
    "ExecuteTime": {
     "end_time": "2021-09-30T08:09:58.869774Z",
     "start_time": "2021-09-30T08:09:58.849954Z"
    }
   },
   "outputs": [
    {
     "name": "stdout",
     "output_type": "stream",
     "text": [
      "Module versions:\n",
      "> PIL.Image: 8.3.1\n",
      "> numpy: 1.20.3\n",
      "> torch: 1.10.0.dev20210814\n",
      "> torchvision: 0.11.0.dev20210814\n"
     ]
    }
   ],
   "source": [
    "print(\"Module versions:\")\n",
    "print('\\n'.join(f'{\"> \" + m.__name__}: {m.__version__}' for m in globals().values() if getattr(m, '__version__', None)))\n",
    "plt.style.use('seaborn')"
   ]
  },
  {
   "cell_type": "code",
   "execution_count": 4,
   "id": "397da902",
   "metadata": {
    "ExecuteTime": {
     "end_time": "2021-09-30T08:09:58.910328Z",
     "start_time": "2021-09-30T08:09:58.891752Z"
    }
   },
   "outputs": [],
   "source": [
    "DATASET_ROOT = \"../../dataset\"\n",
    "driving_path = os.path.join(DATASET_ROOT, \"driving\")\n",
    "monkaa_path = os.path.join(DATASET_ROOT, \"monkaa\")\n",
    "flyingthings3d_path = os.path.join(DATASET_ROOT, \"flyingthings3d\")\n",
    "kitti_path = os.path.join(DATASET_ROOT, \"kitti\")"
   ]
  },
  {
   "cell_type": "code",
   "execution_count": 5,
   "id": "2a8fb702",
   "metadata": {
    "ExecuteTime": {
     "end_time": "2021-09-30T08:09:58.933281Z",
     "start_time": "2021-09-30T08:09:58.911805Z"
    }
   },
   "outputs": [],
   "source": [
    "pretrain_transforms = transforms.Compose([\n",
    "    d_utils.ToTensorMulti(),\n",
    "    d_utils.RandomCropMulti((256,512)),\n",
    "    d_utils.NormalizeMulti(mean=[0.485, 0.456, 0.406], std=[0.229, 0.224, 0.225]),\n",
    "])\n",
    "\n",
    "finetune_transforms = transforms.Compose([\n",
    "    d_utils.ToTensorMulti(),\n",
    "    d_utils.RandomCropMulti((256,512)),\n",
    "    d_utils.ColorJitterMulti(brightness=0.3, hue=.05),\n",
    "    d_utils.NormalizeMulti(mean=[0.485, 0.456, 0.406], std=[0.229, 0.224, 0.225]),\n",
    "])\n",
    "\n",
    "eval_transforms = transforms.Compose([\n",
    "    d_utils.ToTensorMulti(),\n",
    "    d_utils.SanitizeImageSizesMulti(),\n",
    "    d_utils.NormalizeMulti(mean=[0.485, 0.456, 0.406], std=[0.229, 0.224, 0.225]),\n",
    "])"
   ]
  },
  {
   "cell_type": "code",
   "execution_count": 6,
   "id": "3dea5b0d",
   "metadata": {
    "ExecuteTime": {
     "end_time": "2021-09-30T08:09:59.144365Z",
     "start_time": "2021-09-30T08:09:58.934804Z"
    }
   },
   "outputs": [],
   "source": [
    "driving_dataset = d_utils.DrivingDataset(driving_path, transforms=pretrain_transforms)\n",
    "monkaa_dataset = d_utils.MonkaaDataset(monkaa_path, transforms=pretrain_transforms)\n",
    "flyingthings3d_dataset = d_utils.Flyingthings3dDataset(flyingthings3d_path, transforms=pretrain_transforms)\n",
    "kitti_train_val, kitti_eval = d_utils.KittiDataset(kitti_path, train_transforms=finetune_transforms, eval_transforms=eval_transforms).split_dataset()"
   ]
  },
  {
   "cell_type": "code",
   "execution_count": 7,
   "id": "08b117f9",
   "metadata": {
    "ExecuteTime": {
     "end_time": "2021-09-30T08:09:59.168938Z",
     "start_time": "2021-09-30T08:09:59.146018Z"
    }
   },
   "outputs": [
    {
     "name": "stdout",
     "output_type": "stream",
     "text": [
      "Size of the finetuning_train_dataset: 120\n",
      "Size of the finetuning_val_dataset: 30\n",
      "Size of the pretraining_train_dataset: 35172\n",
      "Size of the pretraining_val_dataset: 1852\n"
     ]
    }
   ],
   "source": [
    "train1, val1 = d_utils.split_dataset(driving_dataset, first_part=0.95, second_part=0.05)\n",
    "train2, val2 = d_utils.split_dataset(monkaa_dataset, first_part=0.95, second_part=0.05)\n",
    "train3, val3 = d_utils.split_dataset(flyingthings3d_dataset, first_part=0.95, second_part=0.05)\n",
    "\n",
    "finetuning_train_dataset, finetuning_val_dataset = d_utils.split_dataset(kitti_train_val, \n",
    "                                                                         first_part=0.8, \n",
    "                                                                         second_part=0.2)\n",
    "\n",
    "pretraining_train_dataset = torch.utils.data.ConcatDataset((train1, train2, train3))\n",
    "pretraining_val_dataset = torch.utils.data.ConcatDataset((val1, val2, val3))\n",
    "\n",
    "print(\"Size of the finetuning_train_dataset:\", len(finetuning_train_dataset))\n",
    "print(\"Size of the finetuning_val_dataset:\", len(finetuning_val_dataset))\n",
    "print(\"Size of the pretraining_train_dataset:\", len(pretraining_train_dataset))\n",
    "print(\"Size of the pretraining_val_dataset:\", len(pretraining_val_dataset))"
   ]
  },
  {
   "cell_type": "code",
   "execution_count": 8,
   "id": "48f2121b",
   "metadata": {
    "ExecuteTime": {
     "end_time": "2021-09-30T08:09:59.189448Z",
     "start_time": "2021-09-30T08:09:59.170759Z"
    }
   },
   "outputs": [],
   "source": [
    "train_batch_size = 1\n",
    "eval_batch_size = 1\n",
    "\n",
    "finetuning_train_dataloader = d_utils.make_dataloader(finetuning_train_dataset, batch_size=train_batch_size)\n",
    "finetuning_val_dataloader = d_utils.make_dataloader(finetuning_val_dataset, batch_size=eval_batch_size)\n",
    "pretraining_train_dataloader = d_utils.make_dataloader(pretraining_train_dataset, batch_size=train_batch_size)\n",
    "pretraining_val_dataloader = d_utils.make_dataloader(pretraining_val_dataset, batch_size=eval_batch_size)\n",
    "test_dataloader = d_utils.make_dataloader(kitti_eval, batch_size=1) # needs to be 1 since image sizes can differ"
   ]
  },
  {
   "cell_type": "code",
   "execution_count": 9,
   "id": "814f0776",
   "metadata": {
    "ExecuteTime": {
     "end_time": "2021-09-30T08:09:59.252473Z",
     "start_time": "2021-09-30T08:09:59.191153Z"
    }
   },
   "outputs": [
    {
     "name": "stdout",
     "output_type": "stream",
     "text": [
      "Device is : cuda\n",
      "NVIDIA GeForce RTX 3080 Laptop GPU\n"
     ]
    }
   ],
   "source": [
    "device = t_utils.get_device()\n",
    "print(f\"Device is : {device}\")\n",
    "print(torch.cuda.get_device_name(torch.cuda.current_device()))"
   ]
  },
  {
   "cell_type": "markdown",
   "id": "bee31f62",
   "metadata": {},
   "source": [
    "## Pretrained Models"
   ]
  },
  {
   "cell_type": "markdown",
   "id": "02ccfc39",
   "metadata": {},
   "source": [
    "### Full PSMNet"
   ]
  },
  {
   "cell_type": "markdown",
   "id": "0fade851",
   "metadata": {},
   "source": [
    "**With default cost volume**"
   ]
  },
  {
   "cell_type": "code",
   "execution_count": 10,
   "id": "4fb9e53c",
   "metadata": {
    "ExecuteTime": {
     "end_time": "2021-09-30T08:10:24.764008Z",
     "start_time": "2021-09-30T08:09:59.255117Z"
    }
   },
   "outputs": [
    {
     "name": "stdout",
     "output_type": "stream",
     "text": [
      "Mean 3PE: 14.37%, Mean SmoothL1 loss: 1.801900029182434\n"
     ]
    }
   ],
   "source": [
    "model = PSMNet(192).to(device)\n",
    "e1 = t_utils.Experiment(model        = model,\n",
    "                        criterion    = nn.SmoothL1Loss(), \n",
    "                        scheduler    = None,\n",
    "                        optimizer    = torch.optim.Adam(model.parameters(), lr=1e-4), \n",
    "                        train_loader = pretraining_train_dataloader, \n",
    "                        val_loader   = pretraining_val_dataloader, \n",
    "                        device       = device)\n",
    "\n",
    "e1.load(\"runs/PSM-pretraining-2021_09_22-08_31_27_192disp_10epoch_default/model_manual_save.pt\")\n",
    "\n",
    "output = e1.eval_model(test_dataloader)\n",
    "print(\"Mean 3PE: {}%, Mean SmoothL1 loss: {}\".format(round((1-output[\"accuracy\"])*100,2), \n",
    "                                                     round(output[\"loss\"], 4)))"
   ]
  },
  {
   "cell_type": "markdown",
   "id": "53988ad9",
   "metadata": {},
   "source": [
    "**With strided cost volume**"
   ]
  },
  {
   "cell_type": "code",
   "execution_count": 11,
   "id": "453dfece",
   "metadata": {
    "ExecuteTime": {
     "end_time": "2021-09-30T08:10:47.331296Z",
     "start_time": "2021-09-30T08:10:24.765778Z"
    }
   },
   "outputs": [
    {
     "name": "stdout",
     "output_type": "stream",
     "text": [
      "Mean 3PE: 14.92%, Mean SmoothL1 loss: 1.6742000579833984\n"
     ]
    }
   ],
   "source": [
    "costvolume_slide = 192//2\n",
    "costvolume_stride = 2\n",
    "model = PSMNet(192, costvolume_slide=costvolume_slide, costvolume_stride=costvolume_stride).to(device)\n",
    "e1 = t_utils.Experiment(model        = model,\n",
    "                        criterion    = nn.SmoothL1Loss(), \n",
    "                        scheduler    = None,\n",
    "                        optimizer    = torch.optim.Adam(model.parameters(), lr=1e-4), \n",
    "                        train_loader = pretraining_train_dataloader, \n",
    "                        val_loader   = pretraining_val_dataloader, \n",
    "                        device       = device)\n",
    "\n",
    "e1.load(\"runs/PSM-pretraining-2021_09_22-14_34_14_192disp_10epoch_costslide2stride2/model_manual_save.pt\")\n",
    "\n",
    "output = e1.eval_model(test_dataloader)\n",
    "print(\"Mean 3PE: {}%, Mean SmoothL1 loss: {}\".format(round((1-output[\"accuracy\"])*100,2), \n",
    "                                                     round(output[\"loss\"], 4)))"
   ]
  },
  {
   "cell_type": "markdown",
   "id": "8964fea0",
   "metadata": {},
   "source": [
    "**With ResNet50 module concatenated to the fusion layer of feature extraction part**"
   ]
  },
  {
   "cell_type": "code",
   "execution_count": 12,
   "id": "e8834c57",
   "metadata": {
    "ExecuteTime": {
     "end_time": "2021-09-30T08:11:19.873339Z",
     "start_time": "2021-09-30T08:10:47.333585Z"
    }
   },
   "outputs": [
    {
     "name": "stderr",
     "output_type": "stream",
     "text": [
      "Downloading: \"https://download.pytorch.org/models/fcn_resnet50_coco-1167a1af.pth\" to /home/cansu/.cache/torch/hub/checkpoints/fcn_resnet50_coco-1167a1af.pth\n"
     ]
    },
    {
     "data": {
      "application/vnd.jupyter.widget-view+json": {
       "model_id": "256c7a6c0a29493c911ad236d302d938",
       "version_major": 2,
       "version_minor": 0
      },
      "text/plain": [
       "  0%|          | 0.00/135M [00:00<?, ?B/s]"
      ]
     },
     "metadata": {},
     "output_type": "display_data"
    },
    {
     "name": "stdout",
     "output_type": "stream",
     "text": [
      "Mean 3PE: 12.13%, Mean SmoothL1 loss: 1.4759000539779663\n"
     ]
    }
   ],
   "source": [
    "model = PSMNet(192).to(device)\n",
    "model.feature_extraction = FeatureExtractionPlusResNet50().to(device)\n",
    "\n",
    "e1 = t_utils.Experiment(model        = model,\n",
    "                        criterion    = nn.SmoothL1Loss(), \n",
    "                        scheduler    = None,\n",
    "                        optimizer    = torch.optim.Adam(model.parameters(), lr=1e-4), \n",
    "                        train_loader = pretraining_train_dataloader, \n",
    "                        val_loader   = pretraining_val_dataloader, \n",
    "                        device       = device)\n",
    "e1.load(\"runs/PSM-Resnet50-pretraining-2021_09_26-07_47_52/model_manual_save.pt\")\n",
    "\n",
    "output = e1.eval_model(test_dataloader)\n",
    "print(\"Mean 3PE: {}%, Mean SmoothL1 loss: {}\".format(round((1-output[\"accuracy\"])*100,2), \n",
    "                                                     round(output[\"loss\"], 4)))"
   ]
  },
  {
   "cell_type": "markdown",
   "id": "5b3f65f8",
   "metadata": {},
   "source": [
    "### GCNet"
   ]
  },
  {
   "cell_type": "code",
   "execution_count": 13,
   "id": "06147986",
   "metadata": {
    "ExecuteTime": {
     "end_time": "2021-09-30T08:11:56.098413Z",
     "start_time": "2021-09-30T08:11:19.875349Z"
    }
   },
   "outputs": [
    {
     "name": "stdout",
     "output_type": "stream",
     "text": [
      "Mean 3PE: 10.34%, Mean SmoothL1 loss: 1.454699993133545\n"
     ]
    }
   ],
   "source": [
    "model = GCnet(192).to(device)\n",
    "\n",
    "e1 = t_utils.Experiment(model        = model,\n",
    "                        criterion    = nn.SmoothL1Loss(), \n",
    "                        scheduler    = None,\n",
    "                        optimizer    = torch.optim.Adam(model.parameters(), lr=1e-4), \n",
    "                        train_loader = pretraining_train_dataloader, \n",
    "                        val_loader   = pretraining_val_dataloader, \n",
    "                        device       = device)\n",
    "\n",
    "e1.load(\"runs/GCnet-pretraining-2021_09_24-16_50_30/model_manual_save.pt\")\n",
    "\n",
    "output = e1.eval_model(test_dataloader)\n",
    "print(\"Mean 3PE: {}%, Mean SmoothL1 loss: {}\".format(round((1-output[\"accuracy\"])*100,2), \n",
    "                                                     round(output[\"loss\"], 4)))"
   ]
  },
  {
   "cell_type": "markdown",
   "id": "79a7ed87",
   "metadata": {},
   "source": [
    "### Basic PSMNet"
   ]
  },
  {
   "cell_type": "code",
   "execution_count": 14,
   "id": "7875fece",
   "metadata": {
    "ExecuteTime": {
     "end_time": "2021-09-30T08:12:20.105712Z",
     "start_time": "2021-09-30T08:11:56.100266Z"
    }
   },
   "outputs": [
    {
     "name": "stderr",
     "output_type": "stream",
     "text": [
      "/anaconda3/envs/pytorch/lib/python3.9/site-packages/torch/nn/functional.py:3498: UserWarning: nn.functional.upsample is deprecated. Use nn.functional.interpolate instead.\n",
      "  warnings.warn(\"nn.functional.upsample is deprecated. Use nn.functional.interpolate instead.\")\n",
      "/anaconda3/envs/pytorch/lib/python3.9/site-packages/torch/nn/functional.py:3620: UserWarning: Default upsampling behavior when mode=bilinear is changed to align_corners=False since 0.4.0. Please specify align_corners=True if the old behavior is desired. See the documentation of nn.Upsample for details.\n",
      "  warnings.warn(\n",
      "/otherssd/labvision_project/cansu/labvision_stereo_depth_estimation_V02/models/psmnet_basic.py:193: UserWarning: volatile was removed and now has no effect. Use `with torch.no_grad():` instead.\n",
      "  cost = Variable(torch.zeros((refimg_fea.size()[0], refimg_fea.size()[1]*2, self.maxdisp//4,  refimg_fea.size()[2],  refimg_fea.size()[3])).zero_(), volatile= not self.training).cuda()\n",
      "/anaconda3/envs/pytorch/lib/python3.9/site-packages/torch/nn/functional.py:3620: UserWarning: Default upsampling behavior when mode=trilinear is changed to align_corners=False since 0.4.0. Please specify align_corners=True if the old behavior is desired. See the documentation of nn.Upsample for details.\n",
      "  warnings.warn(\n",
      "/otherssd/labvision_project/cansu/labvision_stereo_depth_estimation_V02/models/psmnet_basic.py:213: UserWarning: Implicit dimension choice for softmax has been deprecated. Change the call to include dim=X as an argument.\n",
      "  pred = F.softmax(cost)\n"
     ]
    },
    {
     "name": "stdout",
     "output_type": "stream",
     "text": [
      "Mean 3PE: 9.39%, Mean SmoothL1 loss: 1.271399974822998\n"
     ]
    }
   ],
   "source": [
    "model = PSMNet_basic(192).to(device)\n",
    "\n",
    "e1 = t_utils.Experiment(model        = model,\n",
    "                        criterion    = nn.SmoothL1Loss(), \n",
    "                        scheduler    = None,\n",
    "                        optimizer    = torch.optim.Adam(model.parameters(), lr=1e-4), \n",
    "                        train_loader = pretraining_train_dataloader, \n",
    "                        val_loader   = pretraining_val_dataloader, \n",
    "                        device       = device)\n",
    "\n",
    "e1.load(\"runs/PSM_basic-pretraining-2021_09_25-15_48_12/model_manual_save.pt\")\n",
    "\n",
    "output = e1.eval_model(test_dataloader)\n",
    "print(\"Mean 3PE: {}%, Mean SmoothL1 loss: {}\".format(round((1-output[\"accuracy\"])*100,2), \n",
    "                                                     round(output[\"loss\"], 4)))"
   ]
  },
  {
   "cell_type": "markdown",
   "id": "5a41417c",
   "metadata": {},
   "source": [
    "## Finetuned Models"
   ]
  },
  {
   "cell_type": "markdown",
   "id": "201cd828",
   "metadata": {},
   "source": [
    "### Full PSMNet"
   ]
  },
  {
   "cell_type": "markdown",
   "id": "9f02546c",
   "metadata": {},
   "source": [
    "#### lr=1e-4, no scheduler"
   ]
  },
  {
   "cell_type": "code",
   "execution_count": 15,
   "id": "16fb1ab2",
   "metadata": {
    "ExecuteTime": {
     "end_time": "2021-09-30T08:12:43.256578Z",
     "start_time": "2021-09-30T08:12:20.107488Z"
    }
   },
   "outputs": [
    {
     "name": "stdout",
     "output_type": "stream",
     "text": [
      "Mean 3PE: 3.24%, Mean SmoothL1 loss: 0.5654000043869019\n"
     ]
    }
   ],
   "source": [
    "model = PSMNet(192).to(device)\n",
    "\n",
    "e1 = t_utils.Experiment(model        = model,\n",
    "                        criterion    = nn.SmoothL1Loss(), \n",
    "                        scheduler    = None,\n",
    "                        optimizer    = torch.optim.Adam(model.parameters(), lr=1e-4), \n",
    "                        train_loader = finetuning_train_dataloader, \n",
    "                        val_loader   = finetuning_val_dataloader, \n",
    "                        device       = device)\n",
    "\n",
    "e1.load(\"runs/PSM-finetuning-2021_09_25-01_29_49_lr1e-4/model_manual_save.pt\")\n",
    "\n",
    "output = e1.eval_model(test_dataloader)\n",
    "print(\"Mean 3PE: {}%, Mean SmoothL1 loss: {}\".format(round((1-output[\"accuracy\"])*100,2), \n",
    "                                                     round(output[\"loss\"], 4)))"
   ]
  },
  {
   "cell_type": "markdown",
   "id": "7b5e275d",
   "metadata": {},
   "source": [
    "#### lr=1e-5, no scheduler"
   ]
  },
  {
   "cell_type": "code",
   "execution_count": 16,
   "id": "22ffe2f0",
   "metadata": {
    "ExecuteTime": {
     "end_time": "2021-09-30T08:13:06.397925Z",
     "start_time": "2021-09-30T08:12:43.258855Z"
    }
   },
   "outputs": [
    {
     "name": "stdout",
     "output_type": "stream",
     "text": [
      "Mean 3PE: 3.32%, Mean SmoothL1 loss: 0.5867999792098999\n"
     ]
    }
   ],
   "source": [
    "model = PSMNet(192).to(device)\n",
    "\n",
    "e1 = t_utils.Experiment(model        = model,\n",
    "                        criterion    = nn.SmoothL1Loss(), \n",
    "                        scheduler    = None,\n",
    "                        optimizer    = torch.optim.Adam(model.parameters(), lr=1e-5), \n",
    "                        train_loader = finetuning_train_dataloader, \n",
    "                        val_loader   = finetuning_val_dataloader, \n",
    "                        device       = device)\n",
    "\n",
    "e1.load(\"runs/PSM-finetuning-2021_09_25-04_32_59_lr1e-5/model_manual_save.pt\")\n",
    "\n",
    "output = e1.eval_model(test_dataloader)\n",
    "print(\"Mean 3PE: {}%, Mean SmoothL1 loss: {}\".format(round((1-output[\"accuracy\"])*100,2), \n",
    "                                                     round(output[\"loss\"], 4)))"
   ]
  },
  {
   "cell_type": "markdown",
   "id": "740e63a0",
   "metadata": {},
   "source": [
    "#### lr=1e-3, with scheduler"
   ]
  },
  {
   "cell_type": "code",
   "execution_count": 17,
   "id": "42ec32a2",
   "metadata": {
    "ExecuteTime": {
     "end_time": "2021-09-30T08:13:29.547857Z",
     "start_time": "2021-09-30T08:13:06.399654Z"
    }
   },
   "outputs": [
    {
     "name": "stdout",
     "output_type": "stream",
     "text": [
      "Mean 3PE: 3.77%, Mean SmoothL1 loss: 0.6287000179290771\n"
     ]
    }
   ],
   "source": [
    "model = PSMNet(192).to(device)\n",
    "optimizer = torch.optim.Adam(model.parameters(), lr=1e-3)\n",
    "\n",
    "e1 = t_utils.Experiment(model        = model,\n",
    "                        criterion    = nn.SmoothL1Loss(), \n",
    "                        scheduler    = torch.optim.lr_scheduler.StepLR(optimizer, step_size=1000, gamma=0.75),\n",
    "                        optimizer    = optimizer, \n",
    "                        train_loader = finetuning_train_dataloader, \n",
    "                        val_loader   = finetuning_val_dataloader, \n",
    "                        device       = device)\n",
    "\n",
    "e1.load(\"runs/PSM-finetuning-2021_09_28-00_46_28_scheduler-lr1e-3/model_manual_save.pt\")\n",
    "\n",
    "output = e1.eval_model(test_dataloader)\n",
    "print(\"Mean 3PE: {}%, Mean SmoothL1 loss: {}\".format(round((1-output[\"accuracy\"])*100,2), \n",
    "                                                     round(output[\"loss\"], 4)))"
   ]
  },
  {
   "cell_type": "markdown",
   "id": "f73dc3b6",
   "metadata": {},
   "source": [
    "#### lr=1e-4, with scheduler"
   ]
  },
  {
   "cell_type": "code",
   "execution_count": 18,
   "id": "c736ffbb",
   "metadata": {
    "ExecuteTime": {
     "end_time": "2021-09-30T08:13:52.726218Z",
     "start_time": "2021-09-30T08:13:29.549668Z"
    }
   },
   "outputs": [
    {
     "name": "stdout",
     "output_type": "stream",
     "text": [
      "Mean 3PE: 3.16%, Mean SmoothL1 loss: 0.5472999811172485\n"
     ]
    }
   ],
   "source": [
    "model = PSMNet(192).to(device)\n",
    "\n",
    "optimizer = torch.optim.Adam(model.parameters(), lr=1e-4)\n",
    "\n",
    "e1 = t_utils.Experiment(model        = model,\n",
    "                        criterion    = nn.SmoothL1Loss(), \n",
    "                        scheduler    = torch.optim.lr_scheduler.StepLR(optimizer, step_size=1000, gamma=0.75),\n",
    "                        optimizer    = optimizer, \n",
    "                        train_loader = finetuning_train_dataloader, \n",
    "                        val_loader   = finetuning_val_dataloader, \n",
    "                        device       = device)\n",
    "\n",
    "e1.load(\"runs/PSM-finetuning-2021_09_26-18_02_34_scheduler_lr1e-4/model_manual_save.pt\")\n",
    "\n",
    "output = e1.eval_model(test_dataloader)\n",
    "print(\"Mean 3PE: {}%, Mean SmoothL1 loss: {}\".format(round((1-output[\"accuracy\"])*100,2), \n",
    "                                                     round(output[\"loss\"], 4)))"
   ]
  },
  {
   "cell_type": "markdown",
   "id": "59091b30",
   "metadata": {},
   "source": [
    "#### lr=1e-5, with scheduler"
   ]
  },
  {
   "cell_type": "code",
   "execution_count": 19,
   "id": "4ae87238",
   "metadata": {
    "ExecuteTime": {
     "end_time": "2021-09-30T08:14:16.063085Z",
     "start_time": "2021-09-30T08:13:52.728262Z"
    }
   },
   "outputs": [
    {
     "name": "stdout",
     "output_type": "stream",
     "text": [
      "Mean 3PE: 4.51%, Mean SmoothL1 loss: 0.6977999806404114\n"
     ]
    }
   ],
   "source": [
    "model = PSMNet(192).to(device)\n",
    "\n",
    "optimizer = torch.optim.Adam(model.parameters(), lr=1e-5)\n",
    "\n",
    "e1 = t_utils.Experiment(model        = model,\n",
    "                        criterion    = nn.SmoothL1Loss(), \n",
    "                        scheduler    = torch.optim.lr_scheduler.StepLR(optimizer, step_size=1000, gamma=0.75),\n",
    "                        optimizer    = optimizer, \n",
    "                        train_loader = finetuning_train_dataloader, \n",
    "                        val_loader   = finetuning_val_dataloader,\n",
    "                        device       = device)\n",
    "\n",
    "e1.load(\"runs/PSM-finetuning-2021_09_26-21_32_49_scheduler_lr1e-5/model_manual_save.pt\")\n",
    "\n",
    "output = e1.eval_model(test_dataloader)\n",
    "print(\"Mean 3PE: {}%, Mean SmoothL1 loss: {}\".format(round((1-output[\"accuracy\"])*100,2), \n",
    "                                                     round(output[\"loss\"], 4)))"
   ]
  },
  {
   "cell_type": "markdown",
   "id": "20059a19",
   "metadata": {},
   "source": [
    "#### Strided Cost Volume, lr=1e-4"
   ]
  },
  {
   "cell_type": "code",
   "execution_count": 20,
   "id": "0778fdb3",
   "metadata": {
    "ExecuteTime": {
     "end_time": "2021-09-30T08:14:39.477592Z",
     "start_time": "2021-09-30T08:14:16.065195Z"
    }
   },
   "outputs": [
    {
     "name": "stdout",
     "output_type": "stream",
     "text": [
      "Mean 3PE: 4.51%, Mean SmoothL1 loss: 0.7081000208854675\n"
     ]
    }
   ],
   "source": [
    "costvolume_slide = 192//2\n",
    "costvolume_stride = 2\n",
    "model = PSMNet(192, costvolume_slide=costvolume_slide, costvolume_stride=costvolume_stride).to(device)\n",
    "\n",
    "e1 = t_utils.Experiment(model        = model,\n",
    "                        criterion    = nn.SmoothL1Loss(), \n",
    "                        scheduler    = None,\n",
    "                        optimizer    = torch.optim.Adam(model.parameters(), lr=1e-4),\n",
    "                        train_loader = finetuning_train_dataloader,\n",
    "                        val_loader   = finetuning_val_dataloader,\n",
    "                        device       = device)\n",
    "\n",
    "e1.load(\"runs/PSM-finetuning-2021_09_25-17_03_04_stride2_lr1e-4/model_manual_save.pt\")\n",
    "\n",
    "output = e1.eval_model(test_dataloader)\n",
    "print(\"Mean 3PE: {}%, Mean SmoothL1 loss: {}\".format(round((1-output[\"accuracy\"])*100,2), \n",
    "                                                     round(output[\"loss\"], 4)))"
   ]
  },
  {
   "cell_type": "markdown",
   "id": "3cb28416",
   "metadata": {},
   "source": [
    "#### With ResNet50, lr=1e-4"
   ]
  },
  {
   "cell_type": "code",
   "execution_count": 21,
   "id": "54c695a6",
   "metadata": {
    "ExecuteTime": {
     "end_time": "2021-09-30T08:15:04.816465Z",
     "start_time": "2021-09-30T08:14:39.479269Z"
    }
   },
   "outputs": [
    {
     "name": "stdout",
     "output_type": "stream",
     "text": [
      "Mean 3PE: 3.41%, Mean SmoothL1 loss: 0.6036999821662903\n"
     ]
    }
   ],
   "source": [
    "model = PSMNet(192).to(device)\n",
    "model.feature_extraction = FeatureExtractionPlusResNet50().to(device)\n",
    "\n",
    "optimizer = torch.optim.Adam(model.parameters(), lr=1e-4)\n",
    "e1 = t_utils.Experiment(model        = model,\n",
    "                        criterion    = nn.SmoothL1Loss(), \n",
    "                        scheduler    = torch.optim.lr_scheduler.StepLR(optimizer, step_size=2500, gamma=0.75),\n",
    "                        optimizer    = optimizer, \n",
    "                        train_loader = finetuning_train_dataloader, \n",
    "                        val_loader   = finetuning_val_dataloader,\n",
    "                        device       = device)\n",
    "\n",
    "e1.load(\"runs/PSM-Resnet50-finetuning-2021_09_29-21_52_52/model_manual_save.pt\")\n",
    "\n",
    "output = e1.eval_model(test_dataloader)\n",
    "print(\"Mean 3PE: {}%, Mean SmoothL1 loss: {}\".format(round((1-output[\"accuracy\"])*100,2), \n",
    "                                                     round(output[\"loss\"], 4)))"
   ]
  },
  {
   "cell_type": "markdown",
   "id": "9d06d833",
   "metadata": {},
   "source": [
    "### GCNet"
   ]
  },
  {
   "cell_type": "markdown",
   "id": "fdb9c641",
   "metadata": {},
   "source": [
    "#### lr=1e-3, no scheduler"
   ]
  },
  {
   "cell_type": "code",
   "execution_count": 22,
   "id": "9a382dd2",
   "metadata": {
    "ExecuteTime": {
     "end_time": "2021-09-30T08:15:39.808760Z",
     "start_time": "2021-09-30T08:15:04.818320Z"
    }
   },
   "outputs": [
    {
     "name": "stdout",
     "output_type": "stream",
     "text": [
      "Mean 3PE: 4.41%, Mean SmoothL1 loss: 0.7685999870300293\n"
     ]
    }
   ],
   "source": [
    "model = GCnet(192).to(device)\n",
    "\n",
    "e1 = t_utils.Experiment(model        = model,\n",
    "                        criterion    = nn.SmoothL1Loss(), \n",
    "                        scheduler    = None,\n",
    "                        optimizer    = torch.optim.Adam(model.parameters(), lr=1e-3), \n",
    "                        train_loader = finetuning_train_dataloader, \n",
    "                        val_loader   = finetuning_val_dataloader, \n",
    "                        device       = device)\n",
    "\n",
    "e1.load(\"runs/GCnet-finetuning-2021_09_28-00_17_53_lr1e-3/model_manual_save.pt\")\n",
    "\n",
    "output = e1.eval_model(test_dataloader)\n",
    "print(\"Mean 3PE: {}%, Mean SmoothL1 loss: {}\".format(round((1-output[\"accuracy\"])*100,2), \n",
    "                                                     round(output[\"loss\"], 4)))"
   ]
  },
  {
   "cell_type": "markdown",
   "id": "c7d9d8e7",
   "metadata": {},
   "source": [
    "#### lr=1e-4, no scheduler"
   ]
  },
  {
   "cell_type": "code",
   "execution_count": 23,
   "id": "aa05c219",
   "metadata": {
    "ExecuteTime": {
     "end_time": "2021-09-30T08:16:14.692412Z",
     "start_time": "2021-09-30T08:15:39.811102Z"
    }
   },
   "outputs": [
    {
     "name": "stdout",
     "output_type": "stream",
     "text": [
      "Mean 3PE: 4.41%, Mean SmoothL1 loss: 0.73580002784729\n"
     ]
    }
   ],
   "source": [
    "model = GCnet(192).to(device)\n",
    "\n",
    "e1 = t_utils.Experiment(model        = model,\n",
    "                        criterion    = nn.SmoothL1Loss(), \n",
    "                        scheduler    = None,\n",
    "                        optimizer    = torch.optim.Adam(model.parameters(), lr=1e-4), \n",
    "                        train_loader = finetuning_train_dataloader, \n",
    "                        val_loader   = finetuning_val_dataloader, \n",
    "                        device       = device)\n",
    "\n",
    "e1.load(\"runs/GCnet-finetuning-2021_09_27-19_30_42_lr1e-4/model_manual_save.pt\")\n",
    "\n",
    "output = e1.eval_model(test_dataloader)\n",
    "print(\"Mean 3PE: {}%, Mean SmoothL1 loss: {}\".format(round((1-output[\"accuracy\"])*100,2), \n",
    "                                                     round(output[\"loss\"], 4)))"
   ]
  },
  {
   "cell_type": "markdown",
   "id": "8662f89d",
   "metadata": {},
   "source": [
    "#### lr=1e-4, with scheduler"
   ]
  },
  {
   "cell_type": "code",
   "execution_count": 24,
   "id": "086a9939",
   "metadata": {
    "ExecuteTime": {
     "end_time": "2021-09-30T08:16:49.643428Z",
     "start_time": "2021-09-30T08:16:14.694183Z"
    }
   },
   "outputs": [
    {
     "name": "stdout",
     "output_type": "stream",
     "text": [
      "Mean 3PE: 4.62%, Mean SmoothL1 loss: 0.8087000250816345\n"
     ]
    }
   ],
   "source": [
    "model = GCnet(192).to(device)\n",
    "\n",
    "optimizer = torch.optim.Adam(model.parameters(), lr=1e-4)\n",
    "\n",
    "e1 = t_utils.Experiment(model        = model,\n",
    "                        criterion    = nn.SmoothL1Loss(), \n",
    "                        scheduler    = torch.optim.lr_scheduler.StepLR(optimizer, step_size=1000, gamma=0.75),\n",
    "                        optimizer    = optimizer, \n",
    "                        train_loader = finetuning_train_dataloader, \n",
    "                        val_loader   = finetuning_val_dataloader, \n",
    "                        device       = device)\n",
    "\n",
    "e1.load(\"runs/GCnet-finetuning-2021_09_27-19_41_40_scheduler_lr1e-4/model_manual_save.pt\")\n",
    "\n",
    "output = e1.eval_model(test_dataloader)\n",
    "print(\"Mean 3PE: {}%, Mean SmoothL1 loss: {}\".format(round((1-output[\"accuracy\"])*100,2), \n",
    "                                                     round(output[\"loss\"], 4)))"
   ]
  },
  {
   "cell_type": "markdown",
   "id": "40858c0e",
   "metadata": {},
   "source": [
    "### Basic PSMNet"
   ]
  },
  {
   "cell_type": "code",
   "execution_count": 25,
   "id": "5df8ae4d",
   "metadata": {
    "ExecuteTime": {
     "end_time": "2021-09-30T08:17:14.219308Z",
     "start_time": "2021-09-30T08:16:49.645204Z"
    }
   },
   "outputs": [
    {
     "name": "stdout",
     "output_type": "stream",
     "text": [
      "Mean 3PE: 3.48%, Mean SmoothL1 loss: 0.5889000296592712\n"
     ]
    }
   ],
   "source": [
    "model = PSMNet_basic(192).to(device)\n",
    "\n",
    "optimizer = torch.optim.Adam(model.parameters(), lr=1e-4)\n",
    "\n",
    "e1 = t_utils.Experiment(model        = model,\n",
    "                        criterion    = nn.SmoothL1Loss(), \n",
    "                        scheduler    = torch.optim.lr_scheduler.StepLR(optimizer, step_size=2500, gamma=0.75),\n",
    "                        optimizer    = optimizer, \n",
    "                        train_loader = finetuning_train_dataloader, \n",
    "                        val_loader   = finetuning_val_dataloader, \n",
    "                        device       = device)\n",
    "\n",
    "e1.load(\"runs/PSM_basic-finetuning-2021_09_28-23_48_34/model_manual_save.pt\")\n",
    "\n",
    "output = e1.eval_model(test_dataloader)\n",
    "print(\"Mean 3PE: {}%, Mean SmoothL1 loss: {}\".format(round((1-output[\"accuracy\"])*100,2), \n",
    "                                                     round(output[\"loss\"], 4)))"
   ]
  },
  {
   "cell_type": "markdown",
   "id": "23ea5dd9",
   "metadata": {},
   "source": [
    "## Without Pretraining"
   ]
  },
  {
   "cell_type": "markdown",
   "id": "8f34c1c4",
   "metadata": {},
   "source": [
    "### Full PSMNet"
   ]
  },
  {
   "cell_type": "markdown",
   "id": "38cd2e36",
   "metadata": {},
   "source": [
    "#### lr=1e-4, no scheduler"
   ]
  },
  {
   "cell_type": "code",
   "execution_count": 26,
   "id": "07077b76",
   "metadata": {
    "ExecuteTime": {
     "end_time": "2021-09-30T08:17:37.404161Z",
     "start_time": "2021-09-30T08:17:14.221252Z"
    }
   },
   "outputs": [
    {
     "name": "stdout",
     "output_type": "stream",
     "text": [
      "Mean 3PE: 4.91%, Mean SmoothL1 loss: 0.7924000024795532\n"
     ]
    }
   ],
   "source": [
    "model = PSMNet(192).to(device)\n",
    "\n",
    "e1 = t_utils.Experiment(model        = model,\n",
    "                        criterion    = nn.SmoothL1Loss(), \n",
    "                        scheduler    = None,\n",
    "                        optimizer    = torch.optim.Adam(model.parameters(), lr=1e-4), \n",
    "                        train_loader = finetuning_train_dataloader, \n",
    "                        val_loader   = finetuning_val_dataloader, \n",
    "                        device       = device)\n",
    "\n",
    "e1.load(\"runs/PSMNet-training-2021_09_26-05_14_10_lr1e-4/model_manual_save.pt\")\n",
    "\n",
    "output = e1.eval_model(test_dataloader)\n",
    "print(\"Mean 3PE: {}%, Mean SmoothL1 loss: {}\".format(round((1-output[\"accuracy\"])*100,2), \n",
    "                                                     round(output[\"loss\"], 4)))"
   ]
  },
  {
   "cell_type": "markdown",
   "id": "98a0fcf0",
   "metadata": {},
   "source": [
    "#### lr=1e-4, with scheduler"
   ]
  },
  {
   "cell_type": "code",
   "execution_count": 27,
   "id": "25a50762",
   "metadata": {
    "ExecuteTime": {
     "end_time": "2021-09-30T08:18:00.710145Z",
     "start_time": "2021-09-30T08:17:37.406144Z"
    }
   },
   "outputs": [
    {
     "name": "stdout",
     "output_type": "stream",
     "text": [
      "Mean 3PE: 5.27%, Mean SmoothL1 loss: 0.8180000185966492\n"
     ]
    }
   ],
   "source": [
    "model = PSMNet(192).to(device)\n",
    "optimizer = torch.optim.Adam(model.parameters(), lr=1e-4)\n",
    "\n",
    "e1 = t_utils.Experiment(model        = model,\n",
    "                        criterion    = nn.SmoothL1Loss(), \n",
    "                        scheduler    = torch.optim.lr_scheduler.StepLR(optimizer, step_size=2500, gamma=0.75),\n",
    "                        optimizer    = optimizer, \n",
    "                        train_loader = finetuning_train_dataloader, \n",
    "                        val_loader   = finetuning_val_dataloader, \n",
    "                        device       = device)\n",
    "\n",
    "e1.load(\"runs/PSMNet-training-2021_09_27-05_52_04_scheduler_lr1e-4/checkpoints/ep_20000.pt\")\n",
    "\n",
    "output = e1.eval_model(test_dataloader)\n",
    "print(\"Mean 3PE: {}%, Mean SmoothL1 loss: {}\".format(round((1-output[\"accuracy\"])*100,2), \n",
    "                                                     round(output[\"loss\"], 4)))"
   ]
  },
  {
   "cell_type": "markdown",
   "id": "76ba2ba4",
   "metadata": {},
   "source": [
    "#### With max disparity=96, lr=1e-4, with scheduler"
   ]
  },
  {
   "cell_type": "code",
   "execution_count": 28,
   "id": "8fc67ddb",
   "metadata": {
    "ExecuteTime": {
     "end_time": "2021-09-30T08:18:23.368373Z",
     "start_time": "2021-09-30T08:18:00.713526Z"
    }
   },
   "outputs": [
    {
     "name": "stdout",
     "output_type": "stream",
     "text": [
      "Mean 3PE: 8.24%, Mean SmoothL1 loss: 1.0264999866485596\n"
     ]
    }
   ],
   "source": [
    "model = PSMNet(96).to(device)\n",
    "optimizer = torch.optim.Adam(model.parameters(), lr=1e-4)\n",
    "\n",
    "e1 = t_utils.Experiment(model        = model,\n",
    "                        criterion    = nn.SmoothL1Loss(), \n",
    "                        scheduler    = torch.optim.lr_scheduler.StepLR(optimizer, step_size=1000, gamma=0.75),\n",
    "                        optimizer    = optimizer, \n",
    "                        train_loader = finetuning_train_dataloader,\n",
    "                        val_loader   = finetuning_val_dataloader,\n",
    "                        device       = device)\n",
    "\n",
    "e1.load(\"runs/PSMNet-training-2021_09_28-07_32_46_maxdisp96_scheduler_lr1e-4/model_manual_save.pt\")\n",
    "\n",
    "output = e1.eval_model(test_dataloader)\n",
    "print(\"Mean 3PE: {}%, Mean SmoothL1 loss: {}\".format(round((1-output[\"accuracy\"])*100,2), \n",
    "                                                     round(output[\"loss\"], 4)))"
   ]
  }
 ],
 "metadata": {
  "kernelspec": {
   "display_name": "Python 3 (pytorch)",
   "language": "python",
   "name": "pytorch"
  },
  "language_info": {
   "codemirror_mode": {
    "name": "ipython",
    "version": 3
   },
   "file_extension": ".py",
   "mimetype": "text/x-python",
   "name": "python",
   "nbconvert_exporter": "python",
   "pygments_lexer": "ipython3",
   "version": "3.9.6"
  },
  "toc": {
   "base_numbering": "1",
   "nav_menu": {},
   "number_sections": true,
   "sideBar": true,
   "skip_h1_title": true,
   "title_cell": "Table of Contents",
   "title_sidebar": "Contents",
   "toc_cell": false,
   "toc_position": {},
   "toc_section_display": true,
   "toc_window_display": true
  }
 },
 "nbformat": 4,
 "nbformat_minor": 5
}
